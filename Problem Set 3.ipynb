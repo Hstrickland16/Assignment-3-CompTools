{
 "cells": [
  {
   "cell_type": "code",
   "execution_count": 1,
   "id": "4f701b7e-3a72-4c38-a6f1-975df564fed0",
   "metadata": {},
   "outputs": [
    {
     "name": "stdout",
     "output_type": "stream",
     "text": [
      "The maximum water level was 6.647 and occurred on 2018-10-10 18:06\n"
     ]
    }
   ],
   "source": [
    "#ProblemOne\n",
    "file = open ('/home/hstrickland/class/Class_Files/data/CO-OPS__8729108__wl.csv')\n",
    "next (file)\n",
    "max_water = 0\n",
    "max_date = 0\n",
    "for line in file:\n",
    "    column = line.split(\",\")\n",
    "    try: \n",
    "        water_level = float(column[1])\n",
    "    except:\n",
    "        continue\n",
    "    datetime = column[0]\n",
    "    if water_level > max_water:\n",
    "        max_water = water_level\n",
    "        max_date = datetime\n",
    "print (\"The maximum water level was\",max_water,\"and occurred on\",max_date)\n",
    "    \n",
    "    \n",
    "    "
   ]
  },
  {
   "cell_type": "code",
   "execution_count": 4,
   "id": "12a01663-9bfc-4c55-aecd-9c94ef0f6e85",
   "metadata": {},
   "outputs": [
    {
     "name": "stdout",
     "output_type": "stream",
     "text": [
      "The maximum water level was 6.647 which occurred on 2018-10-10 18:06\n",
      "The minimum water level was 1.621 which occurred on 2018-10-11 15:36\n",
      "Average water level = 2.9823232044198895\n"
     ]
    }
   ],
   "source": [
    "#ProblemTwo\n",
    "#Maximum Water Level\n",
    "file = open ('/home/hstrickland/class/Class_Files/data/CO-OPS__8729108__wl.csv')\n",
    "next (file)\n",
    "max_water = 0\n",
    "max_date = 0\n",
    "for line in file:\n",
    "    column = line.split(\",\")\n",
    "    try: \n",
    "        water_level = float(column[1])\n",
    "    except:\n",
    "        continue\n",
    "    datetime = column[0]\n",
    "    if water_level > max_water:    #Finding maximum water leve;\n",
    "        max_water = water_level\n",
    "        max_date = datetime\n",
    "print (\"The maximum water level was\",max_water,\"which occurred on\",max_date)\n",
    "#Minimum Water Level\n",
    "file = open ('/home/hstrickland/class/Class_Files/data/CO-OPS__8729108__wl.csv')\n",
    "next (file)\n",
    "min_water = 6.647\n",
    "min_date = 0\n",
    "for line in file:\n",
    "    column = line.split(\",\")\n",
    "    try: \n",
    "        water_level = float(column[1])\n",
    "    except:\n",
    "        continue\n",
    "    datetime = column[0]\n",
    "    if water_level < min_water:    #Finding minimum water level\n",
    "        min_water = water_level\n",
    "        min_date = datetime\n",
    "print (\"The minimum water level was\",min_water, \"which occurred on\",min_date)\n",
    "#Averaging Water Level\n",
    "file = open ('/home/hstrickland/class/Class_Files/data/CO-OPS__8729108__wl.csv')\n",
    "next (file)\n",
    "water_level = []\n",
    "for line in file:\n",
    "    column = line.split(\",\")\n",
    "    try: \n",
    "        water_level.append(float(column[1]))\n",
    "    except:\n",
    "        continue\n",
    "import statistics\n",
    "average = statistics.mean(water_level)    #Using Mean function to find average\n",
    "\n",
    "# Printing average of the list\n",
    "print(\"Average water level =\",average)\n",
    "        \n",
    "   \n"
   ]
  },
  {
   "cell_type": "code",
   "execution_count": 17,
   "id": "5a1d406d-fde4-4ff1-aaed-d753f70732e0",
   "metadata": {},
   "outputs": [
    {
     "name": "stdout",
     "output_type": "stream",
     "text": [
      " The maximum delta was 0.6400000000000006 on 2018-10-10 17:42\n"
     ]
    }
   ],
   "source": [
    "#ProblemThree\n",
    "file = open ('/home/hstrickland/class/Class_Files/data/CO-OPS__8729108__wl.csv')\n",
    "next (file)\n",
    "max_change= -1.7976931348623517e+308\n",
    "date_change=\"\"\n",
    "prev_level=-1.7976931348623517e+308\n",
    "for line in file:\n",
    "    column = line.split(\",\")\n",
    "    curr_level= column[1]\n",
    "    datetime=column[0]\n",
    "    if(curr_level==\"\"): curr_level = prev_level\n",
    "    if(prev_level == -1.7976931348623517e+308):\n",
    "        prev_level=float(curr_level)\n",
    "    else:\n",
    "        if(float(curr_level) - prev_level >= max_change): # Determining maximum change/delta\n",
    "            max_change=float(curr_level)-prev_level\n",
    "            prev_level=float(curr_level)\n",
    "            date_change= datetime\n",
    "        else: prev_level = float(curr_level)\n",
    "print(\" The maximum delta was\", max_change, \"on\",date_change)\n",
    "    \n",
    "\n",
    "    "
   ]
  },
  {
   "cell_type": "code",
   "execution_count": 3,
   "id": "ef0fb854-9ef8-4e1d-8b66-de93fac3e048",
   "metadata": {},
   "outputs": [
    {
     "name": "stdout",
     "output_type": "stream",
     "text": [
      "Warning! Water level increase over 0.25!\n",
      "Warning! Water level increase over 0.25!\n",
      "Warning! Water level increase over 0.25!\n",
      "Warning! Water level greater than 5!\n",
      "Warning! Water level increase over 0.25!\n",
      "Warning! Water level greater than 5!\n",
      "Warning! Water level increase over 0.25!\n",
      "Warning! Water level greater than 5!\n",
      "Warning! Water level increase over 0.25!\n",
      "Warning! Water level greater than 5!\n",
      "Warning! Water level greater than 5!\n",
      "Warning! Water level greater than 5!\n",
      "There is no data!\n",
      "Warning! Water level greater than 5!\n",
      "Warning! Water level greater than 5!\n",
      "Warning! Water level greater than 5!\n",
      "Warning! Water level greater than 5!\n",
      "Warning! Water level greater than 5!\n",
      "Warning! Water level greater than 5!\n",
      "Warning! Water level greater than 5!\n",
      "Warning! Water level greater than 5!\n",
      "Warning! Water level greater than 5!\n"
     ]
    }
   ],
   "source": [
    "#ProblemFour\n",
    "file = open ('/home/hstrickland/class/Class_Files/data/CO-OPS__8729108__wl.csv')\n",
    "next (file)\n",
    "date_change = \"\"\n",
    "prev_level= -1.79e+308\n",
    "for line in file:\n",
    "    column = line.split(\",\")\n",
    "    curr_level = column[1]\n",
    "    datetime =column[0]\n",
    "    if(curr_level==\"\"):\n",
    "            print(\"There is no data!\") # This to determine if data is present\n",
    "    if(curr_level == \"\"):curr_level = prev_level\n",
    "    if(prev_level == -1.7976931348623517e+308):\n",
    "        prev_level = float(curr_level)\n",
    "    else:\n",
    "        if(float(curr_level) >= 5.0):     #Determining if current value greater than five\n",
    "            print(\"Warning! Water level greater than 5!\")\n",
    "        if(float(curr_level)-prev_level >=0.25):#Determining if increase is >0.25\n",
    "            print(\"Warning! Water level increase over 0.25!\")\n",
    "            prev_level = float(curr_level)\n",
    "        else: prev_level = float(curr_level)"
   ]
  },
  {
   "cell_type": "code",
   "execution_count": null,
   "id": "ef4351dc-2a65-4a1f-911c-110594f453c7",
   "metadata": {},
   "outputs": [],
   "source": []
  }
 ],
 "metadata": {
  "kernelspec": {
   "display_name": "Python 3 (ipykernel)",
   "language": "python",
   "name": "python3"
  },
  "language_info": {
   "codemirror_mode": {
    "name": "ipython",
    "version": 3
   },
   "file_extension": ".py",
   "mimetype": "text/x-python",
   "name": "python",
   "nbconvert_exporter": "python",
   "pygments_lexer": "ipython3",
   "version": "3.8.1"
  }
 },
 "nbformat": 4,
 "nbformat_minor": 5
}
